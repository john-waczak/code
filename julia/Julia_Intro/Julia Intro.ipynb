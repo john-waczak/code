{
 "cells": [
  {
   "cell_type": "markdown",
   "metadata": {},
   "source": [
    "# Julia Introduction"
   ]
  },
  {
   "cell_type": "markdown",
   "metadata": {},
   "source": [
    "## Arrays "
   ]
  },
  {
   "cell_type": "code",
   "execution_count": 34,
   "metadata": {},
   "outputs": [
    {
     "data": {
      "text/plain": [
       "3×3 Array{Float64,2}:\n",
       "  6.0   6.0   6.0\n",
       " 12.0  12.0  12.0\n",
       " 18.0  18.0  18.0"
      ]
     },
     "execution_count": 34,
     "metadata": {},
     "output_type": "execute_result"
    }
   ],
   "source": [
    "# define a column vector a, and a row vector b \n",
    "a = [1;2;3]\n",
    "b = [1 2 3]\n",
    "\n",
    "# the inner and outer product is predefined! \n",
    "dot = b*a\n",
    "mat1 = a*b\n",
    "\n",
    "mat2 = ones(3,3);\n",
    "mat1*mat2"
   ]
  },
  {
   "cell_type": "code",
   "execution_count": 35,
   "metadata": {},
   "outputs": [
    {
     "name": "stdout",
     "output_type": "stream",
     "text": [
      "3\n",
      "3\n",
      "(3, 3)\n",
      "(3, 3)\n"
     ]
    }
   ],
   "source": [
    "# we can compute lengths and dimensions \n",
    "println(length(a))\n",
    "println(length(b))\n",
    "println(size(mat1))\n",
    "println(size(mat2))"
   ]
  },
  {
   "cell_type": "markdown",
   "metadata": {},
   "source": [
    "NOTE: If you want to copy the values in an array, use the copy() function. If you do A=B then changing the values of B changes the values of A. "
   ]
  },
  {
   "cell_type": "code",
   "execution_count": 44,
   "metadata": {},
   "outputs": [
    {
     "name": "stdout",
     "output_type": "stream",
     "text": [
      "1  1\n",
      "20  20\n",
      "\n",
      "1  1\n",
      "1  20\n"
     ]
    }
   ],
   "source": [
    "A = [1 0 0; 0 1 0; 0 0 1];\n",
    "B=A; \n",
    "println(\"$(A[1,1])  $(B[1,1])\")\n",
    "B[1,1]=20;\n",
    "println(\"$(A[1,1])  $(B[1,1])\\n\")\n",
    "\n",
    "\n",
    "A = [1 0 0; 0 1 0; 0 0 1];\n",
    "B=copy(A); \n",
    "println(\"$(A[1,1])  $(B[1,1])\")\n",
    "B[1,1]=20;\n",
    "println(\"$(A[1,1])  $(B[1,1])\")"
   ]
  },
  {
   "cell_type": "code",
   "execution_count": null,
   "metadata": {},
   "outputs": [],
   "source": []
  }
 ],
 "metadata": {
  "kernelspec": {
   "display_name": "Julia 1.0.2",
   "language": "julia",
   "name": "julia-1.0"
  },
  "language_info": {
   "file_extension": ".jl",
   "mimetype": "application/julia",
   "name": "julia",
   "version": "1.0.2"
  }
 },
 "nbformat": 4,
 "nbformat_minor": 2
}
