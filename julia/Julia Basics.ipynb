{
 "cells": [
  {
   "cell_type": "markdown",
   "metadata": {},
   "source": [
    "# This notebook demonstrates the basics of Julia!"
   ]
  },
  {
   "cell_type": "code",
   "execution_count": 1,
   "metadata": {},
   "outputs": [
    {
     "name": "stdout",
     "output_type": "stream",
     "text": [
      "Hello world!\n"
     ]
    }
   ],
   "source": [
    "println(\"Hello world!\")"
   ]
  },
  {
   "cell_type": "code",
   "execution_count": 2,
   "metadata": {},
   "outputs": [
    {
     "data": {
      "text/plain": [
       "Int64"
      ]
     },
     "execution_count": 2,
     "metadata": {},
     "output_type": "execute_result"
    }
   ],
   "source": [
    "variable = 42 \n",
    "typeof(variable)"
   ]
  },
  {
   "cell_type": "markdown",
   "metadata": {},
   "source": [
    "** You don't have to type your variables in Julia... but you can if you want. Here are some common math expressions ** "
   ]
  },
  {
   "cell_type": "code",
   "execution_count": 3,
   "metadata": {},
   "outputs": [
    {
     "data": {
      "text/plain": [
       "10"
      ]
     },
     "execution_count": 3,
     "metadata": {},
     "output_type": "execute_result"
    }
   ],
   "source": [
    "sum = 3+7"
   ]
  },
  {
   "cell_type": "code",
   "execution_count": 4,
   "metadata": {},
   "outputs": [
    {
     "data": {
      "text/plain": [
       "7"
      ]
     },
     "execution_count": 4,
     "metadata": {},
     "output_type": "execute_result"
    }
   ],
   "source": [
    "difference = 10-3"
   ]
  },
  {
   "cell_type": "code",
   "execution_count": 5,
   "metadata": {},
   "outputs": [
    {
     "data": {
      "text/plain": [
       "100"
      ]
     },
     "execution_count": 5,
     "metadata": {},
     "output_type": "execute_result"
    }
   ],
   "source": [
    "product = 20*5"
   ]
  },
  {
   "cell_type": "code",
   "execution_count": 6,
   "metadata": {},
   "outputs": [
    {
     "data": {
      "text/plain": [
       "10.0"
      ]
     },
     "execution_count": 6,
     "metadata": {},
     "output_type": "execute_result"
    }
   ],
   "source": [
    "quotient = 100/10"
   ]
  },
  {
   "cell_type": "code",
   "execution_count": 7,
   "metadata": {},
   "outputs": [
    {
     "data": {
      "text/plain": [
       "100"
      ]
     },
     "execution_count": 7,
     "metadata": {},
     "output_type": "execute_result"
    }
   ],
   "source": [
    "power = 10 ^ 2 "
   ]
  },
  {
   "cell_type": "code",
   "execution_count": 8,
   "metadata": {},
   "outputs": [
    {
     "data": {
      "text/plain": [
       "1"
      ]
     },
     "execution_count": 8,
     "metadata": {},
     "output_type": "execute_result"
    }
   ],
   "source": [
    "modulus = 101%2"
   ]
  },
  {
   "cell_type": "markdown",
   "metadata": {},
   "source": [
    "# Here are some examples of strings "
   ]
  },
  {
   "cell_type": "code",
   "execution_count": 9,
   "metadata": {},
   "outputs": [
    {
     "name": "stdout",
     "output_type": "stream",
     "text": [
      "I am a string\n"
     ]
    }
   ],
   "source": [
    "# enclose characters in \"\" or \"\"\" \"\"\" \n",
    "\n",
    "sl = \"I am a string\" \n",
    "println(sl)"
   ]
  },
  {
   "cell_type": "code",
   "execution_count": 10,
   "metadata": {},
   "outputs": [
    {
     "name": "stdout",
     "output_type": "stream",
     "text": [
      "Look, Mom, no \"errors\"!!! \n"
     ]
    }
   ],
   "source": [
    "test_string = \"\"\"Look, Mom, no \"errors\"!!! \"\"\" \n",
    "println(test_string) "
   ]
  },
  {
   "cell_type": "code",
   "execution_count": 11,
   "metadata": {},
   "outputs": [
    {
     "name": "stdout",
     "output_type": "stream",
     "text": [
      "My name is John. I was born on 3-14-1997\n"
     ]
    }
   ],
   "source": [
    "#NOTE: characters are enclosed by single quotation marks \n",
    "name = \"John\" \n",
    "Birthday = \"3-14-1997\"\n",
    "\n",
    "println(\"My name is $(name). I was born on $(Birthday)\")"
   ]
  },
  {
   "cell_type": "markdown",
   "metadata": {},
   "source": [
    "# Dictionaries, tuples, and arrays "
   ]
  },
  {
   "cell_type": "code",
   "execution_count": 12,
   "metadata": {},
   "outputs": [
    {
     "name": "stdout",
     "output_type": "stream",
     "text": [
      "John\n",
      "21\n"
     ]
    }
   ],
   "source": [
    "dictionary = Dict(\"name\" => \"John\", \"age\"=>21)\n",
    "println(dictionary[\"name\"])\n",
    "println(dictionary[\"age\"])"
   ]
  },
  {
   "cell_type": "code",
   "execution_count": 13,
   "metadata": {},
   "outputs": [
    {
     "name": "stdout",
     "output_type": "stream",
     "text": [
      "blue\n"
     ]
    }
   ],
   "source": [
    "# add another entry \n",
    "dictionary[\"eyes\"] = \"blue\"\n",
    "\n",
    "println(dictionary[\"eyes\"])"
   ]
  },
  {
   "cell_type": "markdown",
   "metadata": {},
   "source": [
    "# LOOPS  "
   ]
  },
  {
   "cell_type": "code",
   "execution_count": 31,
   "metadata": {},
   "outputs": [
    {
     "name": "stdout",
     "output_type": "stream",
     "text": [
      "1\n",
      "2\n",
      "3\n",
      "4\n",
      "5\n",
      "6\n",
      "7\n",
      "8\n",
      "9\n"
     ]
    }
   ],
   "source": [
    "# note that while loops are local in scope\n",
    "\n",
    "i = 1; \n",
    "while i < 10\n",
    "    println(i) \n",
    "    global i += 1 \n",
    "end\n",
    "\n",
    "# this is kind of funky and will require some careful thought later"
   ]
  },
  {
   "cell_type": "code",
   "execution_count": 32,
   "metadata": {},
   "outputs": [
    {
     "name": "stdout",
     "output_type": "stream",
     "text": [
      "1\n",
      "2\n",
      "3\n",
      "4\n",
      "5\n",
      "6\n",
      "7\n",
      "8\n",
      "9\n",
      "10\n"
     ]
    }
   ],
   "source": [
    "for i in 1:10\n",
    "    println(i)\n",
    "end"
   ]
  },
  {
   "cell_type": "markdown",
   "metadata": {},
   "source": [
    "** We can replace the in with either = or ∈ ** "
   ]
  },
  {
   "cell_type": "code",
   "execution_count": 33,
   "metadata": {},
   "outputs": [
    {
     "name": "stdout",
     "output_type": "stream",
     "text": [
      "1\n",
      "2\n",
      "3\n",
      "4\n",
      "5\n",
      "6\n",
      "7\n",
      "8\n",
      "9\n",
      "10\n"
     ]
    }
   ],
   "source": [
    "for i = 1:10\n",
    "    println(i)\n",
    "end\n"
   ]
  },
  {
   "cell_type": "code",
   "execution_count": 34,
   "metadata": {},
   "outputs": [
    {
     "name": "stdout",
     "output_type": "stream",
     "text": [
      "1\n",
      "2\n",
      "3\n",
      "4\n",
      "5\n",
      "6\n",
      "7\n",
      "8\n",
      "9\n",
      "10\n"
     ]
    }
   ],
   "source": [
    "for i ∈ 1:10\n",
    "    println(i)\n",
    "end"
   ]
  },
  {
   "cell_type": "code",
   "execution_count": 35,
   "metadata": {},
   "outputs": [
    {
     "data": {
      "text/plain": [
       "5×5 Array{Float64,2}:\n",
       " 0.0  0.0  0.0  0.0  0.0\n",
       " 0.0  0.0  0.0  0.0  0.0\n",
       " 0.0  0.0  0.0  0.0  0.0\n",
       " 0.0  0.0  0.0  0.0  0.0\n",
       " 0.0  0.0  0.0  0.0  0.0"
      ]
     },
     "execution_count": 35,
     "metadata": {},
     "output_type": "execute_result"
    }
   ],
   "source": [
    "m, n = 5, 5 \n",
    "A = zeros(m, n) "
   ]
  },
  {
   "cell_type": "code",
   "execution_count": 40,
   "metadata": {},
   "outputs": [
    {
     "data": {
      "text/plain": [
       "5×5 Array{Float64,2}:\n",
       " 2.0  3.0  4.0  5.0   6.0\n",
       " 3.0  4.0  5.0  6.0   7.0\n",
       " 4.0  5.0  6.0  7.0   8.0\n",
       " 5.0  6.0  7.0  8.0   9.0\n",
       " 6.0  7.0  8.0  9.0  10.0"
      ]
     },
     "execution_count": 40,
     "metadata": {},
     "output_type": "execute_result"
    }
   ],
   "source": [
    "for i in 1:m\n",
    "    for j in 1:n\n",
    "        A[i, j] = i + j\n",
    "    end\n",
    "end\n",
    "A"
   ]
  },
  {
   "cell_type": "markdown",
   "metadata": {},
   "source": [
    "** Condense a nested for loop ** "
   ]
  },
  {
   "cell_type": "code",
   "execution_count": 41,
   "metadata": {},
   "outputs": [
    {
     "data": {
      "text/plain": [
       "5×5 Array{Float64,2}:\n",
       " 1.0   2.0   3.0   4.0   5.0\n",
       " 2.0   4.0   6.0   8.0  10.0\n",
       " 3.0   6.0   9.0  12.0  15.0\n",
       " 4.0   8.0  12.0  16.0  20.0\n",
       " 5.0  10.0  15.0  20.0  25.0"
      ]
     },
     "execution_count": 41,
     "metadata": {},
     "output_type": "execute_result"
    }
   ],
   "source": [
    "for i in 1:m, j in 1:n \n",
    "    A[i, j] = i*j\n",
    "end\n",
    "A"
   ]
  },
  {
   "cell_type": "markdown",
   "metadata": {},
   "source": [
    "**Do the same thing with comprehension ** "
   ]
  },
  {
   "cell_type": "code",
   "execution_count": 53,
   "metadata": {},
   "outputs": [
    {
     "data": {
      "text/plain": [
       "5×5 Array{Int64,2}:\n",
       " 0  -1  -2  -3  -4\n",
       " 1   0  -1  -2  -3\n",
       " 2   1   0  -1  -2\n",
       " 3   2   1   0  -1\n",
       " 4   3   2   1   0"
      ]
     },
     "metadata": {},
     "output_type": "display_data"
    }
   ],
   "source": [
    "A = [i - j for i in 1:m, j in 1:n]\n",
    "display(A)\n",
    "# display seems to be a nice way to print matrices"
   ]
  },
  {
   "cell_type": "code",
   "execution_count": 54,
   "metadata": {},
   "outputs": [
    {
     "data": {
      "text/markdown": [
       "```\n",
       "display(x)\n",
       "display(d::AbstractDisplay, x)\n",
       "display(mime, x)\n",
       "display(d::AbstractDisplay, mime, x)\n",
       "```\n",
       "\n",
       "AbstractDisplay `x` using the topmost applicable display in the display stack, typically using the richest supported multimedia output for `x`, with plain-text [`stdout`](@ref) output as a fallback. The `display(d, x)` variant attempts to display `x` on the given display `d` only, throwing a [`MethodError`](@ref) if `d` cannot display objects of this type.\n",
       "\n",
       "In general, you cannot assume that `display` output goes to `stdout` (unlike [`print(x)`](@ref) or [`show(x)`](@ref)).  For example, `display(x)` may open up a separate window with an image. `display(x)` means \"show `x` in the best way you can for the current output device(s).\" If you want REPL-like text output that is guaranteed to go to `stdout`, use [`show(stdout, \"text/plain\", x)`](@ref) instead.\n",
       "\n",
       "There are also two variants with a `mime` argument (a MIME type string, such as `\"image/png\"`), which attempt to display `x` using the requested MIME type *only*, throwing a `MethodError` if this type is not supported by either the display(s) or by `x`. With these variants, one can also supply the \"raw\" data in the requested MIME type by passing `x::AbstractString` (for MIME types with text-based storage, such as text/html or application/postscript) or `x::Vector{UInt8}` (for binary MIME types).\n"
      ],
      "text/plain": [
       "\u001b[36m  display(x)\u001b[39m\n",
       "\u001b[36m  display(d::AbstractDisplay, x)\u001b[39m\n",
       "\u001b[36m  display(mime, x)\u001b[39m\n",
       "\u001b[36m  display(d::AbstractDisplay, mime, x)\u001b[39m\n",
       "\n",
       "  AbstractDisplay \u001b[36mx\u001b[39m using the topmost applicable display in the display stack,\n",
       "  typically using the richest supported multimedia output for \u001b[36mx\u001b[39m, with\n",
       "  plain-text \u001b[36mstdout\u001b[39m output as a fallback. The \u001b[36mdisplay(d, x)\u001b[39m variant attempts\n",
       "  to display \u001b[36mx\u001b[39m on the given display \u001b[36md\u001b[39m only, throwing a \u001b[36mMethodError\u001b[39m if \u001b[36md\u001b[39m cannot\n",
       "  display objects of this type.\n",
       "\n",
       "  In general, you cannot assume that \u001b[36mdisplay\u001b[39m output goes to \u001b[36mstdout\u001b[39m (unlike\n",
       "  \u001b[36mprint(x)\u001b[39m or \u001b[36mshow(x)\u001b[39m). For example, \u001b[36mdisplay(x)\u001b[39m may open up a separate window\n",
       "  with an image. \u001b[36mdisplay(x)\u001b[39m means \"show \u001b[36mx\u001b[39m in the best way you can for the\n",
       "  current output device(s).\" If you want REPL-like text output that is\n",
       "  guaranteed to go to \u001b[36mstdout\u001b[39m, use \u001b[36mshow(stdout, \"text/plain\", x)\u001b[39m instead.\n",
       "\n",
       "  There are also two variants with a \u001b[36mmime\u001b[39m argument (a MIME type string, such\n",
       "  as \u001b[36m\"image/png\"\u001b[39m), which attempt to display \u001b[36mx\u001b[39m using the requested MIME type\n",
       "  \u001b[4monly\u001b[24m, throwing a \u001b[36mMethodError\u001b[39m if this type is not supported by either the\n",
       "  display(s) or by \u001b[36mx\u001b[39m. With these variants, one can also supply the \"raw\" data\n",
       "  in the requested MIME type by passing \u001b[36mx::AbstractString\u001b[39m (for MIME types with\n",
       "  text-based storage, such as text/html or application/postscript) or\n",
       "  \u001b[36mx::Vector{UInt8}\u001b[39m (for binary MIME types)."
      ]
     },
     "execution_count": 54,
     "metadata": {},
     "output_type": "execute_result"
    }
   ],
   "source": [
    "?display()"
   ]
  },
  {
   "cell_type": "markdown",
   "metadata": {},
   "source": [
    "# Conditionals"
   ]
  },
  {
   "cell_type": "code",
   "execution_count": 56,
   "metadata": {},
   "outputs": [],
   "source": [
    "x = 12 ;\n",
    "y = 90 ;"
   ]
  },
  {
   "cell_type": "code",
   "execution_count": 57,
   "metadata": {},
   "outputs": [
    {
     "name": "stdout",
     "output_type": "stream",
     "text": [
      "90 is larger than 12\n"
     ]
    }
   ],
   "source": [
    "if x > y\n",
    "    println(\"$x is larger than $y\")\n",
    "elseif y > x \n",
    "    println(\"$y is larger than $x\") \n",
    "else\n",
    "    println(\"$x and $y are equal\")\n",
    "end"
   ]
  },
  {
   "cell_type": "markdown",
   "metadata": {},
   "source": [
    "# Functions"
   ]
  },
  {
   "cell_type": "code",
   "execution_count": 58,
   "metadata": {},
   "outputs": [
    {
     "data": {
      "text/plain": [
       "sayhi (generic function with 1 method)"
      ]
     },
     "execution_count": 58,
     "metadata": {},
     "output_type": "execute_result"
    }
   ],
   "source": [
    "function sayhi(name)\n",
    "    println(\"Hi $name, it's great to see you!\")\n",
    "end"
   ]
  },
  {
   "cell_type": "code",
   "execution_count": 70,
   "metadata": {},
   "outputs": [
    {
     "data": {
      "text/plain": [
       "f (generic function with 1 method)"
      ]
     },
     "execution_count": 70,
     "metadata": {},
     "output_type": "execute_result"
    }
   ],
   "source": [
    "function f(x)\n",
    "    return x^2\n",
    "end"
   ]
  },
  {
   "cell_type": "code",
   "execution_count": 71,
   "metadata": {},
   "outputs": [
    {
     "name": "stdout",
     "output_type": "stream",
     "text": [
      "Hi C-3PO, it's great to see you!\n"
     ]
    }
   ],
   "source": [
    "sayhi(\"C-3PO\")"
   ]
  },
  {
   "cell_type": "code",
   "execution_count": 72,
   "metadata": {},
   "outputs": [
    {
     "name": "stdout",
     "output_type": "stream",
     "text": [
      "1764\n",
      "42\n"
     ]
    }
   ],
   "source": [
    "x = 42 \n",
    "println(f(x))\n",
    "println(x)"
   ]
  },
  {
   "cell_type": "code",
   "execution_count": 76,
   "metadata": {},
   "outputs": [
    {
     "data": {
      "text/plain": [
       "g (generic function with 1 method)"
      ]
     },
     "execution_count": 76,
     "metadata": {},
     "output_type": "execute_result"
    }
   ],
   "source": [
    "g(x) = x^2  # we can define one line functions just like in math"
   ]
  },
  {
   "cell_type": "code",
   "execution_count": 77,
   "metadata": {},
   "outputs": [
    {
     "name": "stdout",
     "output_type": "stream",
     "text": [
      "1764\n"
     ]
    }
   ],
   "source": [
    "println(g(42))"
   ]
  },
  {
   "cell_type": "code",
   "execution_count": null,
   "metadata": {},
   "outputs": [],
   "source": [
    "# anonymous / lambda function"
   ]
  },
  {
   "cell_type": "code",
   "execution_count": 79,
   "metadata": {},
   "outputs": [
    {
     "data": {
      "text/plain": [
       "#15 (generic function with 1 method)"
      ]
     },
     "execution_count": 79,
     "metadata": {},
     "output_type": "execute_result"
    }
   ],
   "source": [
    "f3 = x -> x^2  # think of this like a mapping "
   ]
  },
  {
   "cell_type": "code",
   "execution_count": 80,
   "metadata": {},
   "outputs": [
    {
     "data": {
      "text/plain": [
       "1764"
      ]
     },
     "execution_count": 80,
     "metadata": {},
     "output_type": "execute_result"
    }
   ],
   "source": [
    "f3(42)"
   ]
  },
  {
   "cell_type": "markdown",
   "metadata": {},
   "source": [
    "## Duck-typing in Julia"
   ]
  },
  {
   "cell_type": "code",
   "execution_count": 81,
   "metadata": {},
   "outputs": [
    {
     "name": "stdout",
     "output_type": "stream",
     "text": [
      "Hi 555666, it's great to see you!\n"
     ]
    }
   ],
   "source": [
    "sayhi(555666)"
   ]
  },
  {
   "cell_type": "code",
   "execution_count": 83,
   "metadata": {},
   "outputs": [
    {
     "data": {
      "text/plain": [
       "3×3 Array{Float64,2}:\n",
       " 0.226886  0.309842  0.439464\n",
       " 0.354424  0.536131  0.794543\n",
       " 0.735407  0.146243  0.37267 "
      ]
     },
     "metadata": {},
     "output_type": "display_data"
    }
   ],
   "source": [
    "A = rand(3,3) \n",
    "display(A)"
   ]
  },
  {
   "cell_type": "code",
   "execution_count": 85,
   "metadata": {},
   "outputs": [
    {
     "data": {
      "text/plain": [
       "3×3 Array{Float64,2}:\n",
       " 0.484477  0.300684  0.509666\n",
       " 0.854744  0.513448  0.877838\n",
       " 0.492749  0.360766  0.578264"
      ]
     },
     "execution_count": 85,
     "metadata": {},
     "output_type": "execute_result"
    }
   ],
   "source": [
    "f(A)"
   ]
  },
  {
   "cell_type": "code",
   "execution_count": 86,
   "metadata": {},
   "outputs": [
    {
     "data": {
      "text/plain": [
       "3-element Array{Float64,1}:\n",
       " 0.6000610970559004\n",
       " 0.7310635456972869\n",
       " 0.3096321466430898"
      ]
     },
     "execution_count": 86,
     "metadata": {},
     "output_type": "execute_result"
    }
   ],
   "source": [
    "v = rand(3) # vector squaring will not make sense (outer vs inner product)"
   ]
  },
  {
   "cell_type": "code",
   "execution_count": 87,
   "metadata": {},
   "outputs": [
    {
     "ename": "LoadError",
     "evalue": "MethodError: no method matching ^(::Array{Float64,1}, ::Int64)\nClosest candidates are:\n  ^(!Matched::Float16, ::Integer) at math.jl:782\n  ^(!Matched::Missing, ::Integer) at missing.jl:120\n  ^(!Matched::Missing, ::Number) at missing.jl:93\n  ...",
     "output_type": "error",
     "traceback": [
      "MethodError: no method matching ^(::Array{Float64,1}, ::Int64)\nClosest candidates are:\n  ^(!Matched::Float16, ::Integer) at math.jl:782\n  ^(!Matched::Missing, ::Integer) at missing.jl:120\n  ^(!Matched::Missing, ::Number) at missing.jl:93\n  ...",
      "",
      "Stacktrace:",
      " [1] macro expansion at ./none:0 [inlined]",
      " [2] literal_pow at ./none:0 [inlined]",
      " [3] f(::Array{Float64,1}) at ./In[73]:1",
      " [4] top-level scope at none:0"
     ]
    }
   ],
   "source": [
    "f(v)"
   ]
  },
  {
   "cell_type": "markdown",
   "metadata": {},
   "source": [
    "** If you want your functions to be able to change a variable (like pass by reference) then add a bang ! after the name ** "
   ]
  },
  {
   "cell_type": "code",
   "execution_count": 92,
   "metadata": {},
   "outputs": [
    {
     "name": "stdout",
     "output_type": "stream",
     "text": [
      "[10, 11, 12]\n"
     ]
    }
   ],
   "source": [
    "x = [12, 11, 10]\n",
    "sort!(x)\n",
    "println(x)"
   ]
  },
  {
   "cell_type": "markdown",
   "metadata": {},
   "source": [
    "** To make a function broadcast element-wise use the . ** "
   ]
  },
  {
   "cell_type": "code",
   "execution_count": 94,
   "metadata": {},
   "outputs": [
    {
     "name": "stdout",
     "output_type": "stream",
     "text": [
      "[0.168573, 0.0347505, 0.170214]\n",
      "[0.028417, 0.0012076, 0.0289727]\n"
     ]
    }
   ],
   "source": [
    "x = rand(3)\n",
    "println(x)\n",
    "println(f.(x))"
   ]
  },
  {
   "cell_type": "code",
   "execution_count": 95,
   "metadata": {},
   "outputs": [
    {
     "name": "stdout",
     "output_type": "stream",
     "text": [
      "Hello world!\n"
     ]
    }
   ],
   "source": []
  },
  {
   "cell_type": "code",
   "execution_count": null,
   "metadata": {},
   "outputs": [],
   "source": []
  }
 ],
 "metadata": {
  "kernelspec": {
   "display_name": "Julia 1.0.0",
   "language": "julia",
   "name": "julia-1.0"
  },
  "language_info": {
   "file_extension": ".jl",
   "mimetype": "application/julia",
   "name": "julia",
   "version": "1.0.0"
  }
 },
 "nbformat": 4,
 "nbformat_minor": 2
}
